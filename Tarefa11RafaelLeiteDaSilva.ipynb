{
  "nbformat": 4,
  "nbformat_minor": 0,
  "metadata": {
    "colab": {
      "provenance": [],
      "authorship_tag": "ABX9TyMgaTKet9NnyjDsdZRcWnRj",
      "include_colab_link": true
    },
    "kernelspec": {
      "name": "python3",
      "display_name": "Python 3"
    },
    "language_info": {
      "name": "python"
    }
  },
  "cells": [
    {
      "cell_type": "markdown",
      "metadata": {
        "id": "view-in-github",
        "colab_type": "text"
      },
      "source": [
        "<a href=\"https://colab.research.google.com/github/rafaelleitedasilva/Ambiente/blob/main/Tarefa11RafaelLeiteDaSilva.ipynb\" target=\"_parent\"><img src=\"https://colab.research.google.com/assets/colab-badge.svg\" alt=\"Open In Colab\"/></a>"
      ]
    },
    {
      "cell_type": "markdown",
      "source": [
        "# Rafael Leite da Silva"
      ],
      "metadata": {
        "id": "aASoopAxxtYv"
      }
    },
    {
      "cell_type": "markdown",
      "source": [
        "1. Crio um array com os valores das quantidades de passos que serão aplicados na função.\n",
        "2. Faço um laço de repetição que percorre todos os valores do array, dentro desse laço eu criei outro que aplicará a função em si para o valor selecionado do array.\n",
        "3. Como a subtração e soma são intercaladas eu criei um if-else simples que realizará uma subtração quando o número do passo for ímpar, e somará quando o número for par."
      ],
      "metadata": {
        "id": "sUtC3vZfzrt0"
      }
    },
    {
      "cell_type": "code",
      "execution_count": 9,
      "metadata": {
        "colab": {
          "base_uri": "https://localhost:8080/"
        },
        "id": "a9aRfJ9DWzrQ",
        "outputId": "0f49ec38-20f6-4405-8088-9bea4ca1f1f7"
      },
      "outputs": [
        {
          "output_type": "stream",
          "name": "stdout",
          "text": [
            "3.121594652591011\n",
            "3.139592655589785\n",
            "3.140592653839794\n",
            "3.1414926535900345\n"
          ]
        }
      ],
      "source": [
        "vals = [50,500,1000,10000]\n",
        "\n",
        "for y in vals:\n",
        "  res = 0\n",
        "  for i in range(y):\n",
        "    if i%2 == 1:\n",
        "      res = res - 4/(1+2*i)\n",
        "    else:\n",
        "      res = res + 4/(1+2*i)\n",
        "  print(res)"
      ]
    }
  ]
}