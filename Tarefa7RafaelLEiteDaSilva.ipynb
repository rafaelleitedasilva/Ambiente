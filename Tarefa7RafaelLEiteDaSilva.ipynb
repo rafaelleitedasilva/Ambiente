{
  "nbformat": 4,
  "nbformat_minor": 0,
  "metadata": {
    "colab": {
      "provenance": [],
      "authorship_tag": "ABX9TyMfrGFPGvJlMzwfs1iTAIyA",
      "include_colab_link": true
    },
    "kernelspec": {
      "name": "python3",
      "display_name": "Python 3"
    },
    "language_info": {
      "name": "python"
    }
  },
  "cells": [
    {
      "cell_type": "markdown",
      "metadata": {
        "id": "view-in-github",
        "colab_type": "text"
      },
      "source": [
        "<a href=\"https://colab.research.google.com/github/rafaelleitedasilva/Ambiente/blob/main/Tarefa7RafaelLEiteDaSilva.ipynb\" target=\"_parent\"><img src=\"https://colab.research.google.com/assets/colab-badge.svg\" alt=\"Open In Colab\"/></a>"
      ]
    },
    {
      "cell_type": "markdown",
      "source": [
        "# Rafael Leite da Silva\n"
      ],
      "metadata": {
        "id": "v0IfQCrZUZWD"
      }
    },
    {
      "cell_type": "markdown",
      "source": [
        "1. Criei um array data que reúne todos os valores pedidos no exercício.\n",
        "2. Logo depois eu percorro o array com um laço de repetição\n",
        "3. Para cada número do array eu faço uma divisão por 2, se o resto dessa divisão for zero eu mostro que o número é par.\n",
        "4. Caso o resto não seja zero o número só pode ser primo."
      ],
      "metadata": {
        "id": "Y4n32QQHVDD3"
      }
    },
    {
      "cell_type": "code",
      "execution_count": 3,
      "metadata": {
        "colab": {
          "base_uri": "https://localhost:8080/"
        },
        "id": "M-rqLatTUDER",
        "outputId": "74da42ce-9cb5-425b-cabe-902788386ea5"
      },
      "outputs": [
        {
          "output_type": "stream",
          "name": "stdout",
          "text": [
            "O número 1 é ímpar\n",
            "O número 24 é par\n",
            "O número 10 é par\n",
            "O número 5 é ímpar\n"
          ]
        }
      ],
      "source": [
        "data =[1,24,10,5]\n",
        "for x in data:\n",
        "  if (x%2 == 0):\n",
        "      print(f\"O número {x} é par\")\n",
        "  else:\n",
        "      print(f\"O número {x} é ímpar\")\n",
        "  "
      ]
    }
  ]
}